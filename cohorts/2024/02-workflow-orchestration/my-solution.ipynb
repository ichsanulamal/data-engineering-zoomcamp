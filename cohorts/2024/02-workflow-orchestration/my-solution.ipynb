{
 "cells": [
  {
   "cell_type": "markdown",
   "metadata": {},
   "source": [
    "i use airflow"
   ]
  },
  {
   "cell_type": "code",
   "execution_count": 12,
   "metadata": {},
   "outputs": [],
   "source": [
    "import pandas as pd\n",
    "from sqlalchemy import create_engine\n",
    "\n",
    "db_params = {\n",
    "    \"dbname\": \"postgres\",\n",
    "    \"user\": \"postgres\",\n",
    "    \"password\": \"postgres\",\n",
    "    \"host\": \"localhost\",  # Change to your database host\n",
    "    \"port\": \"5432\"       # Change to your database port\n",
    "}\n",
    "db_url = f\"postgresql://{db_params['user']}:{db_params['password']}@{db_params['host']}:{db_params['port']}/{db_params['dbname']}\"\n",
    "engine = create_engine(db_url)"
   ]
  },
  {
   "cell_type": "markdown",
   "metadata": {},
   "source": [
    "# Q1"
   ]
  },
  {
   "cell_type": "code",
   "execution_count": 13,
   "metadata": {},
   "outputs": [],
   "source": [
    "df = pd.read_sql_query(sql=\"select * from public.green_tripdata\", con=engine)"
   ]
  },
  {
   "cell_type": "code",
   "execution_count": 14,
   "metadata": {},
   "outputs": [
    {
     "data": {
      "text/plain": [
       "(266855, 20)"
      ]
     },
     "execution_count": 14,
     "metadata": {},
     "output_type": "execute_result"
    }
   ],
   "source": [
    "df.shape\n",
    "# (266855, 20)"
   ]
  },
  {
   "cell_type": "markdown",
   "metadata": {},
   "source": [
    "# Q2"
   ]
  },
  {
   "cell_type": "code",
   "execution_count": 15,
   "metadata": {},
   "outputs": [],
   "source": [
    "df = pd.read_sql_query(sql=f\"\"\"\n",
    "SELECT * \n",
    "FROM public.green_tripdata\n",
    "WHERE passenger_count != 0 AND trip_distance != 0\n",
    "                       \"\"\", con=engine)"
   ]
  },
  {
   "cell_type": "code",
   "execution_count": 16,
   "metadata": {},
   "outputs": [
    {
     "data": {
      "text/plain": [
       "(139370, 20)"
      ]
     },
     "execution_count": 16,
     "metadata": {},
     "output_type": "execute_result"
    }
   ],
   "source": [
    "#  with pandas\n",
    "# df = df[(df['passenger_count'] != 0) & (df['trip_distance'] != 0)]\n",
    "df.shape"
   ]
  },
  {
   "cell_type": "markdown",
   "metadata": {},
   "source": [
    "# Q3"
   ]
  },
  {
   "cell_type": "code",
   "execution_count": 17,
   "metadata": {},
   "outputs": [],
   "source": [
    "df['lpep_pickup_date'] = df['lpep_pickup_datetime'].dt.date"
   ]
  },
  {
   "cell_type": "code",
   "execution_count": 18,
   "metadata": {},
   "outputs": [
    {
     "data": {
      "text/plain": [
       "0    2020-10-01\n",
       "1    2020-10-01\n",
       "2    2020-10-01\n",
       "3    2020-10-01\n",
       "4    2020-10-01\n",
       "Name: lpep_pickup_date, dtype: object"
      ]
     },
     "execution_count": 18,
     "metadata": {},
     "output_type": "execute_result"
    }
   ],
   "source": [
    "df['lpep_pickup_date'].head()"
   ]
  },
  {
   "cell_type": "markdown",
   "metadata": {},
   "source": [
    "# Q4"
   ]
  },
  {
   "cell_type": "code",
   "execution_count": 19,
   "metadata": {},
   "outputs": [
    {
     "data": {
      "text/plain": [
       "array([2, 1])"
      ]
     },
     "execution_count": 19,
     "metadata": {},
     "output_type": "execute_result"
    }
   ],
   "source": [
    "df.VendorID.unique()"
   ]
  },
  {
   "cell_type": "markdown",
   "metadata": {},
   "source": [
    "# Q5\n",
    "\n",
    "4 col need to be renamed"
   ]
  },
  {
   "cell_type": "code",
   "execution_count": 20,
   "metadata": {},
   "outputs": [
    {
     "data": {
      "text/html": [
       "<div>\n",
       "<style scoped>\n",
       "    .dataframe tbody tr th:only-of-type {\n",
       "        vertical-align: middle;\n",
       "    }\n",
       "\n",
       "    .dataframe tbody tr th {\n",
       "        vertical-align: top;\n",
       "    }\n",
       "\n",
       "    .dataframe thead th {\n",
       "        text-align: right;\n",
       "    }\n",
       "</style>\n",
       "<table border=\"1\" class=\"dataframe\">\n",
       "  <thead>\n",
       "    <tr style=\"text-align: right;\">\n",
       "      <th></th>\n",
       "      <th>vendor_id</th>\n",
       "      <th>lpep_pickup_datetime</th>\n",
       "      <th>lpep_dropoff_datetime</th>\n",
       "      <th>store_and_fwd_flag</th>\n",
       "      <th>ratecode_id</th>\n",
       "      <th>pu_location_id</th>\n",
       "      <th>do_location_id</th>\n",
       "      <th>passenger_count</th>\n",
       "      <th>trip_distance</th>\n",
       "      <th>fare_amount</th>\n",
       "      <th>...</th>\n",
       "      <th>mta_tax</th>\n",
       "      <th>tip_amount</th>\n",
       "      <th>tolls_amount</th>\n",
       "      <th>ehail_fee</th>\n",
       "      <th>improvement_surcharge</th>\n",
       "      <th>total_amount</th>\n",
       "      <th>payment_type</th>\n",
       "      <th>trip_type</th>\n",
       "      <th>congestion_surcharge</th>\n",
       "      <th>lpep_pickup_date</th>\n",
       "    </tr>\n",
       "  </thead>\n",
       "  <tbody>\n",
       "    <tr>\n",
       "      <th>0</th>\n",
       "      <td>2</td>\n",
       "      <td>2020-10-01 00:31:19</td>\n",
       "      <td>2020-10-01 00:34:55</td>\n",
       "      <td>N</td>\n",
       "      <td>1</td>\n",
       "      <td>7</td>\n",
       "      <td>7</td>\n",
       "      <td>1</td>\n",
       "      <td>0.79</td>\n",
       "      <td>5</td>\n",
       "      <td>...</td>\n",
       "      <td>0.5</td>\n",
       "      <td>1.58</td>\n",
       "      <td>0</td>\n",
       "      <td></td>\n",
       "      <td>0.3</td>\n",
       "      <td>7.88</td>\n",
       "      <td>1</td>\n",
       "      <td>1</td>\n",
       "      <td>0</td>\n",
       "      <td>2020-10-01</td>\n",
       "    </tr>\n",
       "    <tr>\n",
       "      <th>1</th>\n",
       "      <td>2</td>\n",
       "      <td>2020-10-01 00:42:12</td>\n",
       "      <td>2020-10-01 00:43:51</td>\n",
       "      <td>N</td>\n",
       "      <td>1</td>\n",
       "      <td>179</td>\n",
       "      <td>7</td>\n",
       "      <td>1</td>\n",
       "      <td>0.50</td>\n",
       "      <td>4</td>\n",
       "      <td>...</td>\n",
       "      <td>0.5</td>\n",
       "      <td>0.00</td>\n",
       "      <td>0</td>\n",
       "      <td></td>\n",
       "      <td>0.3</td>\n",
       "      <td>5.30</td>\n",
       "      <td>2</td>\n",
       "      <td>1</td>\n",
       "      <td>0</td>\n",
       "      <td>2020-10-01</td>\n",
       "    </tr>\n",
       "    <tr>\n",
       "      <th>2</th>\n",
       "      <td>2</td>\n",
       "      <td>2020-10-01 00:53:09</td>\n",
       "      <td>2020-10-01 00:55:39</td>\n",
       "      <td>N</td>\n",
       "      <td>1</td>\n",
       "      <td>179</td>\n",
       "      <td>223</td>\n",
       "      <td>1</td>\n",
       "      <td>0.60</td>\n",
       "      <td>4</td>\n",
       "      <td>...</td>\n",
       "      <td>0.5</td>\n",
       "      <td>1.06</td>\n",
       "      <td>0</td>\n",
       "      <td></td>\n",
       "      <td>0.3</td>\n",
       "      <td>6.36</td>\n",
       "      <td>1</td>\n",
       "      <td>1</td>\n",
       "      <td>0</td>\n",
       "      <td>2020-10-01</td>\n",
       "    </tr>\n",
       "    <tr>\n",
       "      <th>3</th>\n",
       "      <td>1</td>\n",
       "      <td>2020-10-01 00:12:29</td>\n",
       "      <td>2020-10-01 00:20:08</td>\n",
       "      <td>N</td>\n",
       "      <td>1</td>\n",
       "      <td>134</td>\n",
       "      <td>216</td>\n",
       "      <td>2</td>\n",
       "      <td>4.40</td>\n",
       "      <td>13</td>\n",
       "      <td>...</td>\n",
       "      <td>0.5</td>\n",
       "      <td>0.00</td>\n",
       "      <td>0</td>\n",
       "      <td></td>\n",
       "      <td>0.3</td>\n",
       "      <td>14.80</td>\n",
       "      <td>2</td>\n",
       "      <td>1</td>\n",
       "      <td>0</td>\n",
       "      <td>2020-10-01</td>\n",
       "    </tr>\n",
       "    <tr>\n",
       "      <th>4</th>\n",
       "      <td>1</td>\n",
       "      <td>2020-10-01 00:32:38</td>\n",
       "      <td>2020-10-01 00:43:02</td>\n",
       "      <td>N</td>\n",
       "      <td>1</td>\n",
       "      <td>82</td>\n",
       "      <td>7</td>\n",
       "      <td>1</td>\n",
       "      <td>2.90</td>\n",
       "      <td>10</td>\n",
       "      <td>...</td>\n",
       "      <td>0.5</td>\n",
       "      <td>0.00</td>\n",
       "      <td>0</td>\n",
       "      <td></td>\n",
       "      <td>0.3</td>\n",
       "      <td>11.80</td>\n",
       "      <td>2</td>\n",
       "      <td>1</td>\n",
       "      <td>0</td>\n",
       "      <td>2020-10-01</td>\n",
       "    </tr>\n",
       "    <tr>\n",
       "      <th>...</th>\n",
       "      <td>...</td>\n",
       "      <td>...</td>\n",
       "      <td>...</td>\n",
       "      <td>...</td>\n",
       "      <td>...</td>\n",
       "      <td>...</td>\n",
       "      <td>...</td>\n",
       "      <td>...</td>\n",
       "      <td>...</td>\n",
       "      <td>...</td>\n",
       "      <td>...</td>\n",
       "      <td>...</td>\n",
       "      <td>...</td>\n",
       "      <td>...</td>\n",
       "      <td>...</td>\n",
       "      <td>...</td>\n",
       "      <td>...</td>\n",
       "      <td>...</td>\n",
       "      <td>...</td>\n",
       "      <td>...</td>\n",
       "      <td>...</td>\n",
       "    </tr>\n",
       "    <tr>\n",
       "      <th>139365</th>\n",
       "      <td>2</td>\n",
       "      <td>2020-12-31 23:08:35</td>\n",
       "      <td>2020-12-31 23:13:00</td>\n",
       "      <td>N</td>\n",
       "      <td>1</td>\n",
       "      <td>41</td>\n",
       "      <td>74</td>\n",
       "      <td>1</td>\n",
       "      <td>0.79</td>\n",
       "      <td>5</td>\n",
       "      <td>...</td>\n",
       "      <td>0.5</td>\n",
       "      <td>0.00</td>\n",
       "      <td>0</td>\n",
       "      <td></td>\n",
       "      <td>0.3</td>\n",
       "      <td>6.30</td>\n",
       "      <td>2</td>\n",
       "      <td>1</td>\n",
       "      <td>0</td>\n",
       "      <td>2020-12-31</td>\n",
       "    </tr>\n",
       "    <tr>\n",
       "      <th>139366</th>\n",
       "      <td>2</td>\n",
       "      <td>2020-12-31 23:11:04</td>\n",
       "      <td>2020-12-31 23:20:08</td>\n",
       "      <td>N</td>\n",
       "      <td>5</td>\n",
       "      <td>41</td>\n",
       "      <td>116</td>\n",
       "      <td>2</td>\n",
       "      <td>2.31</td>\n",
       "      <td>12</td>\n",
       "      <td>...</td>\n",
       "      <td>0.0</td>\n",
       "      <td>0.00</td>\n",
       "      <td>0</td>\n",
       "      <td></td>\n",
       "      <td>0.3</td>\n",
       "      <td>12.30</td>\n",
       "      <td>2</td>\n",
       "      <td>2</td>\n",
       "      <td>0</td>\n",
       "      <td>2020-12-31</td>\n",
       "    </tr>\n",
       "    <tr>\n",
       "      <th>139367</th>\n",
       "      <td>2</td>\n",
       "      <td>2020-12-31 23:24:33</td>\n",
       "      <td>2020-12-31 23:40:24</td>\n",
       "      <td>N</td>\n",
       "      <td>5</td>\n",
       "      <td>116</td>\n",
       "      <td>119</td>\n",
       "      <td>1</td>\n",
       "      <td>5.73</td>\n",
       "      <td>20</td>\n",
       "      <td>...</td>\n",
       "      <td>0.0</td>\n",
       "      <td>0.00</td>\n",
       "      <td>0</td>\n",
       "      <td></td>\n",
       "      <td>0.3</td>\n",
       "      <td>20.30</td>\n",
       "      <td>2</td>\n",
       "      <td>2</td>\n",
       "      <td>0</td>\n",
       "      <td>2020-12-31</td>\n",
       "    </tr>\n",
       "    <tr>\n",
       "      <th>139368</th>\n",
       "      <td>2</td>\n",
       "      <td>2020-12-31 23:13:59</td>\n",
       "      <td>2020-12-31 23:16:20</td>\n",
       "      <td>N</td>\n",
       "      <td>1</td>\n",
       "      <td>42</td>\n",
       "      <td>42</td>\n",
       "      <td>1</td>\n",
       "      <td>0.31</td>\n",
       "      <td>3</td>\n",
       "      <td>...</td>\n",
       "      <td>0.5</td>\n",
       "      <td>0.00</td>\n",
       "      <td>0</td>\n",
       "      <td></td>\n",
       "      <td>0.3</td>\n",
       "      <td>4.80</td>\n",
       "      <td>2</td>\n",
       "      <td>1</td>\n",
       "      <td>0</td>\n",
       "      <td>2020-12-31</td>\n",
       "    </tr>\n",
       "    <tr>\n",
       "      <th>139369</th>\n",
       "      <td>2</td>\n",
       "      <td>2020-12-31 23:54:15</td>\n",
       "      <td>2021-01-01 00:11:17</td>\n",
       "      <td>N</td>\n",
       "      <td>1</td>\n",
       "      <td>75</td>\n",
       "      <td>167</td>\n",
       "      <td>1</td>\n",
       "      <td>3.74</td>\n",
       "      <td>15</td>\n",
       "      <td>...</td>\n",
       "      <td>0.5</td>\n",
       "      <td>1.00</td>\n",
       "      <td>0</td>\n",
       "      <td></td>\n",
       "      <td>0.3</td>\n",
       "      <td>17.30</td>\n",
       "      <td>1</td>\n",
       "      <td>1</td>\n",
       "      <td>0</td>\n",
       "      <td>2020-12-31</td>\n",
       "    </tr>\n",
       "  </tbody>\n",
       "</table>\n",
       "<p>139370 rows × 21 columns</p>\n",
       "</div>"
      ],
      "text/plain": [
       "        vendor_id lpep_pickup_datetime lpep_dropoff_datetime  \\\n",
       "0               2  2020-10-01 00:31:19   2020-10-01 00:34:55   \n",
       "1               2  2020-10-01 00:42:12   2020-10-01 00:43:51   \n",
       "2               2  2020-10-01 00:53:09   2020-10-01 00:55:39   \n",
       "3               1  2020-10-01 00:12:29   2020-10-01 00:20:08   \n",
       "4               1  2020-10-01 00:32:38   2020-10-01 00:43:02   \n",
       "...           ...                  ...                   ...   \n",
       "139365          2  2020-12-31 23:08:35   2020-12-31 23:13:00   \n",
       "139366          2  2020-12-31 23:11:04   2020-12-31 23:20:08   \n",
       "139367          2  2020-12-31 23:24:33   2020-12-31 23:40:24   \n",
       "139368          2  2020-12-31 23:13:59   2020-12-31 23:16:20   \n",
       "139369          2  2020-12-31 23:54:15   2021-01-01 00:11:17   \n",
       "\n",
       "       store_and_fwd_flag  ratecode_id  pu_location_id  do_location_id  \\\n",
       "0                       N            1               7               7   \n",
       "1                       N            1             179               7   \n",
       "2                       N            1             179             223   \n",
       "3                       N            1             134             216   \n",
       "4                       N            1              82               7   \n",
       "...                   ...          ...             ...             ...   \n",
       "139365                  N            1              41              74   \n",
       "139366                  N            5              41             116   \n",
       "139367                  N            5             116             119   \n",
       "139368                  N            1              42              42   \n",
       "139369                  N            1              75             167   \n",
       "\n",
       "        passenger_count  trip_distance  fare_amount  ...  mta_tax  tip_amount  \\\n",
       "0                     1           0.79            5  ...      0.5        1.58   \n",
       "1                     1           0.50            4  ...      0.5        0.00   \n",
       "2                     1           0.60            4  ...      0.5        1.06   \n",
       "3                     2           4.40           13  ...      0.5        0.00   \n",
       "4                     1           2.90           10  ...      0.5        0.00   \n",
       "...                 ...            ...          ...  ...      ...         ...   \n",
       "139365                1           0.79            5  ...      0.5        0.00   \n",
       "139366                2           2.31           12  ...      0.0        0.00   \n",
       "139367                1           5.73           20  ...      0.0        0.00   \n",
       "139368                1           0.31            3  ...      0.5        0.00   \n",
       "139369                1           3.74           15  ...      0.5        1.00   \n",
       "\n",
       "        tolls_amount  ehail_fee improvement_surcharge  total_amount  \\\n",
       "0                  0                              0.3          7.88   \n",
       "1                  0                              0.3          5.30   \n",
       "2                  0                              0.3          6.36   \n",
       "3                  0                              0.3         14.80   \n",
       "4                  0                              0.3         11.80   \n",
       "...              ...        ...                   ...           ...   \n",
       "139365             0                              0.3          6.30   \n",
       "139366             0                              0.3         12.30   \n",
       "139367             0                              0.3         20.30   \n",
       "139368             0                              0.3          4.80   \n",
       "139369             0                              0.3         17.30   \n",
       "\n",
       "        payment_type  trip_type  congestion_surcharge  lpep_pickup_date  \n",
       "0                  1          1                     0        2020-10-01  \n",
       "1                  2          1                     0        2020-10-01  \n",
       "2                  1          1                     0        2020-10-01  \n",
       "3                  2          1                     0        2020-10-01  \n",
       "4                  2          1                     0        2020-10-01  \n",
       "...              ...        ...                   ...               ...  \n",
       "139365             2          1                     0        2020-12-31  \n",
       "139366             2          2                     0        2020-12-31  \n",
       "139367             2          2                     0        2020-12-31  \n",
       "139368             2          1                     0        2020-12-31  \n",
       "139369             1          1                     0        2020-12-31  \n",
       "\n",
       "[139370 rows x 21 columns]"
      ]
     },
     "execution_count": 20,
     "metadata": {},
     "output_type": "execute_result"
    }
   ],
   "source": [
    "columns = {'VendorID': 'vendor_id', 'RatecodeID': 'ratecode_id', 'PULocationID': 'pu_location_id', 'DOLocationID': 'do_location_id' }\n",
    "\n",
    "# Create a mapping of old column names to new column names in snake_case\n",
    "# column_mapping = {col: col.lower().replace(' ', '_') for col in columns}\n",
    "\n",
    "# Rename columns using the mapping\n",
    "df.rename(columns=columns)\n",
    "        #   inplace=True)"
   ]
  },
  {
   "cell_type": "markdown",
   "metadata": {},
   "source": [
    "# Q6"
   ]
  },
  {
   "cell_type": "code",
   "execution_count": 21,
   "metadata": {},
   "outputs": [],
   "source": [
    "from google.oauth2 import service_account\n",
    "\n",
    "credentials = service_account.Credentials.from_service_account_file(\n",
    "    '/home/amal/projects/credentials/ichsanul-dev-cc6f799c9121.json', scopes=['https://www.googleapis.com/auth/cloud-platform']\n",
    ")"
   ]
  },
  {
   "cell_type": "code",
   "execution_count": 22,
   "metadata": {},
   "outputs": [],
   "source": [
    "import pandas as pd\n",
    "from google.cloud import bigquery\n",
    "from google.cloud import storage\n",
    "import pyarrow.parquet as pq\n",
    "\n",
    "# Replace with your own GCP credentials\n",
    "project_id = \"ichsanul-dev\"\n",
    "dataset_id = \"de_zoomcamp\"\n",
    "table_id = \"green_taxi\"\n",
    "\n",
    "# Assume 'df' is your pandas DataFrame\n",
    "\n",
    "# Write to BigQuery\n",
    "def write_to_bigquery(df, project_id, dataset_id, table_id):\n",
    "    client = bigquery.Client(credentials=credentials, project=project_id)\n",
    "    dataset_ref = client.dataset(dataset_id)\n",
    "    table_ref = dataset_ref.table(table_id)\n",
    "\n",
    "    job_config = bigquery.LoadJobConfig(\n",
    "        write_disposition=bigquery.WriteDisposition.WRITE_TRUNCATE  # Replace table if exists\n",
    "    )\n",
    "\n",
    "    job = client.load_table_from_dataframe(df, table_ref, job_config=job_config)\n",
    "    job.result()\n",
    "\n",
    "    print(f'Data written to BigQuery table: {project_id}.{dataset_id}.{table_id}')"
   ]
  },
  {
   "cell_type": "code",
   "execution_count": 23,
   "metadata": {},
   "outputs": [],
   "source": [
    "# # Write to BigQuery\n",
    "# write_to_bigquery(df, project_id, dataset_id, table_id)"
   ]
  },
  {
   "cell_type": "code",
   "execution_count": 24,
   "metadata": {},
   "outputs": [],
   "source": [
    "import pyarrow as pa\n",
    "import pyarrow.parquet as pq"
   ]
  },
  {
   "cell_type": "code",
   "execution_count": 25,
   "metadata": {},
   "outputs": [],
   "source": [
    "# table = pa.Table.from_pandas(df)\n",
    "\n",
    "# # Write the PyArrow Table to a partitioned Parquet file in GCP\n",
    "# pq.write_to_dataset(\n",
    "#     table,\n",
    "#     root_path=f\"gs://dezoomcamp_ichsanuldev/green\",\n",
    "#     partition_cols=['lpep_pickup_date'],\n",
    "#     filesystem=\"gs\",\n",
    "#     use_legacy_dataset=False,\n",
    "#     # credentials=credentials\n",
    "# )"
   ]
  },
  {
   "cell_type": "code",
   "execution_count": 26,
   "metadata": {},
   "outputs": [
    {
     "data": {
      "text/plain": [
       "95"
      ]
     },
     "execution_count": 26,
     "metadata": {},
     "output_type": "execute_result"
    }
   ],
   "source": [
    "len(df.lpep_pickup_date.unique())"
   ]
  }
 ],
 "metadata": {
  "kernelspec": {
   "display_name": "mage",
   "language": "python",
   "name": "python3"
  },
  "language_info": {
   "codemirror_mode": {
    "name": "ipython",
    "version": 3
   },
   "file_extension": ".py",
   "mimetype": "text/x-python",
   "name": "python",
   "nbconvert_exporter": "python",
   "pygments_lexer": "ipython3",
   "version": "3.11.5"
  }
 },
 "nbformat": 4,
 "nbformat_minor": 2
}
