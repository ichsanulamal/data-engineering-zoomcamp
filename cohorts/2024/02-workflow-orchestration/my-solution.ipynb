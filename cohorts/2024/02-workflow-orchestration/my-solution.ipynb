{
 "cells": [
  {
   "cell_type": "markdown",
   "metadata": {},
   "source": [
    "i'm lazy to use mage, so i just use airflow instead. im lying, this one doesnt need airflow. i just use jupyter notebook and ingest manually with dbeaver"
   ]
  },
  {
   "cell_type": "code",
   "execution_count": 1,
   "metadata": {},
   "outputs": [],
   "source": [
    "import pandas as pd\n",
    "from sqlalchemy import create_engine\n",
    "\n",
    "db_params = {\n",
    "    \"dbname\": \"postgres\",\n",
    "    \"user\": \"postgres\",\n",
    "    \"password\": \"postgres\",\n",
    "    \"host\": \"localhost\",  # Change to your database host\n",
    "    \"port\": \"5432\"       # Change to your database port\n",
    "}\n",
    "db_url = f\"postgresql://{db_params['user']}:{db_params['password']}@{db_params['host']}:{db_params['port']}/{db_params['dbname']}\"\n",
    "engine = create_engine(db_url)"
   ]
  },
  {
   "cell_type": "code",
   "execution_count": 2,
   "metadata": {},
   "outputs": [],
   "source": [
    "df = pd.read_sql_query(sql=\"select * from public.green_tripdata\", con=engine)"
   ]
  },
  {
   "cell_type": "markdown",
   "metadata": {},
   "source": [
    "# Q1"
   ]
  },
  {
   "cell_type": "code",
   "execution_count": 3,
   "metadata": {},
   "outputs": [
    {
     "data": {
      "text/plain": [
       "(266855, 20)"
      ]
     },
     "execution_count": 3,
     "metadata": {},
     "output_type": "execute_result"
    }
   ],
   "source": [
    "df.shape\n",
    "# (266855, 20)"
   ]
  },
  {
   "cell_type": "markdown",
   "metadata": {},
   "source": [
    "# Q2"
   ]
  },
  {
   "attachments": {
    "image.png": {
     "image/png": "[encoded data removed]"
    }
   },
   "cell_type": "markdown",
   "metadata": {},
   "source": [
    "![image.png](attachment:image.png)\n",
    "\n",
    "139370"
   ]
  },
  {
   "cell_type": "code",
   "execution_count": 4,
   "metadata": {},
   "outputs": [],
   "source": [
    "df = df[(df['passenger_count'] != 0) & (df['trip_distance'] != 0)]"
   ]
  },
  {
   "cell_type": "markdown",
   "metadata": {},
   "source": [
    "# Q3"
   ]
  },
  {
   "cell_type": "code",
   "execution_count": 5,
   "metadata": {},
   "outputs": [],
   "source": [
    "df['lpep_pickup_date'] = df['lpep_pickup_datetime'].dt.date"
   ]
  },
  {
   "cell_type": "code",
   "execution_count": 6,
   "metadata": {},
   "outputs": [
    {
     "data": {
      "text/plain": [
       "0    2020-10-01\n",
       "1    2020-10-01\n",
       "2    2020-10-01\n",
       "3    2020-10-01\n",
       "4    2020-10-01\n",
       "Name: lpep_pickup_date, dtype: object"
      ]
     },
     "execution_count": 6,
     "metadata": {},
     "output_type": "execute_result"
    }
   ],
   "source": [
    "df['lpep_pickup_date'].head()"
   ]
  },
  {
   "cell_type": "markdown",
   "metadata": {},
   "source": [
    "# Q4"
   ]
  },
  {
   "cell_type": "code",
   "execution_count": 7,
   "metadata": {},
   "outputs": [
    {
     "data": {
      "text/plain": [
       "array([ 2.,  1., nan])"
      ]
     },
     "execution_count": 7,
     "metadata": {},
     "output_type": "execute_result"
    }
   ],
   "source": [
    "df.VendorID.unique()"
   ]
  },
  {
   "cell_type": "markdown",
   "metadata": {},
   "source": [
    "# Q5\n",
    "\n",
    "4 col need to be renamed"
   ]
  },
  {
   "cell_type": "code",
   "execution_count": 8,
   "metadata": {},
   "outputs": [
    {
     "data": {
      "text/html": [
       "<div>\n",
       "<style scoped>\n",
       "    .dataframe tbody tr th:only-of-type {\n",
       "        vertical-align: middle;\n",
       "    }\n",
       "\n",
       "    .dataframe tbody tr th {\n",
       "        vertical-align: top;\n",
       "    }\n",
       "\n",
       "    .dataframe thead th {\n",
       "        text-align: right;\n",
       "    }\n",
       "</style>\n",
       "<table border=\"1\" class=\"dataframe\">\n",
       "  <thead>\n",
       "    <tr style=\"text-align: right;\">\n",
       "      <th></th>\n",
       "      <th>vendor_id</th>\n",
       "      <th>lpep_pickup_datetime</th>\n",
       "      <th>lpep_dropoff_datetime</th>\n",
       "      <th>store_and_fwd_flag</th>\n",
       "      <th>ratecode_id</th>\n",
       "      <th>pu_location_id</th>\n",
       "      <th>do_location_id</th>\n",
       "      <th>passenger_count</th>\n",
       "      <th>trip_distance</th>\n",
       "      <th>fare_amount</th>\n",
       "      <th>...</th>\n",
       "      <th>mta_tax</th>\n",
       "      <th>tip_amount</th>\n",
       "      <th>tolls_amount</th>\n",
       "      <th>ehail_fee</th>\n",
       "      <th>improvement_surcharge</th>\n",
       "      <th>total_amount</th>\n",
       "      <th>payment_type</th>\n",
       "      <th>trip_type</th>\n",
       "      <th>congestion_surcharge</th>\n",
       "      <th>lpep_pickup_date</th>\n",
       "    </tr>\n",
       "  </thead>\n",
       "  <tbody>\n",
       "    <tr>\n",
       "      <th>0</th>\n",
       "      <td>2.0</td>\n",
       "      <td>2020-10-01 00:31:19</td>\n",
       "      <td>2020-10-01 00:34:55</td>\n",
       "      <td>N</td>\n",
       "      <td>1.0</td>\n",
       "      <td>7</td>\n",
       "      <td>7</td>\n",
       "      <td>1.0</td>\n",
       "      <td>0.79</td>\n",
       "      <td>5</td>\n",
       "      <td>...</td>\n",
       "      <td>0.5</td>\n",
       "      <td>1.58</td>\n",
       "      <td>0</td>\n",
       "      <td></td>\n",
       "      <td>0.3</td>\n",
       "      <td>7.88</td>\n",
       "      <td>1.0</td>\n",
       "      <td>1.0</td>\n",
       "      <td>0.0</td>\n",
       "      <td>2020-10-01</td>\n",
       "    </tr>\n",
       "    <tr>\n",
       "      <th>1</th>\n",
       "      <td>2.0</td>\n",
       "      <td>2020-10-01 00:42:12</td>\n",
       "      <td>2020-10-01 00:43:51</td>\n",
       "      <td>N</td>\n",
       "      <td>1.0</td>\n",
       "      <td>179</td>\n",
       "      <td>7</td>\n",
       "      <td>1.0</td>\n",
       "      <td>0.50</td>\n",
       "      <td>4</td>\n",
       "      <td>...</td>\n",
       "      <td>0.5</td>\n",
       "      <td>0.00</td>\n",
       "      <td>0</td>\n",
       "      <td></td>\n",
       "      <td>0.3</td>\n",
       "      <td>5.30</td>\n",
       "      <td>2.0</td>\n",
       "      <td>1.0</td>\n",
       "      <td>0.0</td>\n",
       "      <td>2020-10-01</td>\n",
       "    </tr>\n",
       "    <tr>\n",
       "      <th>2</th>\n",
       "      <td>2.0</td>\n",
       "      <td>2020-10-01 00:53:09</td>\n",
       "      <td>2020-10-01 00:55:39</td>\n",
       "      <td>N</td>\n",
       "      <td>1.0</td>\n",
       "      <td>179</td>\n",
       "      <td>223</td>\n",
       "      <td>1.0</td>\n",
       "      <td>0.60</td>\n",
       "      <td>4</td>\n",
       "      <td>...</td>\n",
       "      <td>0.5</td>\n",
       "      <td>1.06</td>\n",
       "      <td>0</td>\n",
       "      <td></td>\n",
       "      <td>0.3</td>\n",
       "      <td>6.36</td>\n",
       "      <td>1.0</td>\n",
       "      <td>1.0</td>\n",
       "      <td>0.0</td>\n",
       "      <td>2020-10-01</td>\n",
       "    </tr>\n",
       "    <tr>\n",
       "      <th>3</th>\n",
       "      <td>1.0</td>\n",
       "      <td>2020-10-01 00:12:29</td>\n",
       "      <td>2020-10-01 00:20:08</td>\n",
       "      <td>N</td>\n",
       "      <td>1.0</td>\n",
       "      <td>134</td>\n",
       "      <td>216</td>\n",
       "      <td>2.0</td>\n",
       "      <td>4.40</td>\n",
       "      <td>13</td>\n",
       "      <td>...</td>\n",
       "      <td>0.5</td>\n",
       "      <td>0.00</td>\n",
       "      <td>0</td>\n",
       "      <td></td>\n",
       "      <td>0.3</td>\n",
       "      <td>14.80</td>\n",
       "      <td>2.0</td>\n",
       "      <td>1.0</td>\n",
       "      <td>0.0</td>\n",
       "      <td>2020-10-01</td>\n",
       "    </tr>\n",
       "    <tr>\n",
       "      <th>4</th>\n",
       "      <td>1.0</td>\n",
       "      <td>2020-10-01 00:32:38</td>\n",
       "      <td>2020-10-01 00:43:02</td>\n",
       "      <td>N</td>\n",
       "      <td>1.0</td>\n",
       "      <td>82</td>\n",
       "      <td>7</td>\n",
       "      <td>1.0</td>\n",
       "      <td>2.90</td>\n",
       "      <td>10</td>\n",
       "      <td>...</td>\n",
       "      <td>0.5</td>\n",
       "      <td>0.00</td>\n",
       "      <td>0</td>\n",
       "      <td></td>\n",
       "      <td>0.3</td>\n",
       "      <td>11.80</td>\n",
       "      <td>2.0</td>\n",
       "      <td>1.0</td>\n",
       "      <td>0.0</td>\n",
       "      <td>2020-10-01</td>\n",
       "    </tr>\n",
       "    <tr>\n",
       "      <th>...</th>\n",
       "      <td>...</td>\n",
       "      <td>...</td>\n",
       "      <td>...</td>\n",
       "      <td>...</td>\n",
       "      <td>...</td>\n",
       "      <td>...</td>\n",
       "      <td>...</td>\n",
       "      <td>...</td>\n",
       "      <td>...</td>\n",
       "      <td>...</td>\n",
       "      <td>...</td>\n",
       "      <td>...</td>\n",
       "      <td>...</td>\n",
       "      <td>...</td>\n",
       "      <td>...</td>\n",
       "      <td>...</td>\n",
       "      <td>...</td>\n",
       "      <td>...</td>\n",
       "      <td>...</td>\n",
       "      <td>...</td>\n",
       "      <td>...</td>\n",
       "    </tr>\n",
       "    <tr>\n",
       "      <th>266850</th>\n",
       "      <td>NaN</td>\n",
       "      <td>2020-12-31 23:02:00</td>\n",
       "      <td>2020-12-31 23:16:00</td>\n",
       "      <td></td>\n",
       "      <td>NaN</td>\n",
       "      <td>174</td>\n",
       "      <td>168</td>\n",
       "      <td>NaN</td>\n",
       "      <td>7.04</td>\n",
       "      <td>20</td>\n",
       "      <td>...</td>\n",
       "      <td>0.0</td>\n",
       "      <td>0.00</td>\n",
       "      <td>0</td>\n",
       "      <td></td>\n",
       "      <td>0.3</td>\n",
       "      <td>20.63</td>\n",
       "      <td>NaN</td>\n",
       "      <td>NaN</td>\n",
       "      <td>NaN</td>\n",
       "      <td>2020-12-31</td>\n",
       "    </tr>\n",
       "    <tr>\n",
       "      <th>266851</th>\n",
       "      <td>NaN</td>\n",
       "      <td>2020-12-31 23:39:00</td>\n",
       "      <td>2020-12-31 23:54:00</td>\n",
       "      <td></td>\n",
       "      <td>NaN</td>\n",
       "      <td>256</td>\n",
       "      <td>225</td>\n",
       "      <td>NaN</td>\n",
       "      <td>2.79</td>\n",
       "      <td>13</td>\n",
       "      <td>...</td>\n",
       "      <td>0.0</td>\n",
       "      <td>0.00</td>\n",
       "      <td>0</td>\n",
       "      <td></td>\n",
       "      <td>0.3</td>\n",
       "      <td>13.47</td>\n",
       "      <td>NaN</td>\n",
       "      <td>NaN</td>\n",
       "      <td>NaN</td>\n",
       "      <td>2020-12-31</td>\n",
       "    </tr>\n",
       "    <tr>\n",
       "      <th>266852</th>\n",
       "      <td>NaN</td>\n",
       "      <td>2020-12-31 23:09:00</td>\n",
       "      <td>2020-12-31 23:33:00</td>\n",
       "      <td></td>\n",
       "      <td>NaN</td>\n",
       "      <td>146</td>\n",
       "      <td>10</td>\n",
       "      <td>NaN</td>\n",
       "      <td>12.41</td>\n",
       "      <td>45</td>\n",
       "      <td>...</td>\n",
       "      <td>0.0</td>\n",
       "      <td>2.75</td>\n",
       "      <td>0</td>\n",
       "      <td></td>\n",
       "      <td>0.3</td>\n",
       "      <td>48.17</td>\n",
       "      <td>NaN</td>\n",
       "      <td>NaN</td>\n",
       "      <td>NaN</td>\n",
       "      <td>2020-12-31</td>\n",
       "    </tr>\n",
       "    <tr>\n",
       "      <th>266853</th>\n",
       "      <td>NaN</td>\n",
       "      <td>2020-12-31 23:01:00</td>\n",
       "      <td>2020-12-31 23:12:00</td>\n",
       "      <td></td>\n",
       "      <td>NaN</td>\n",
       "      <td>196</td>\n",
       "      <td>28</td>\n",
       "      <td>NaN</td>\n",
       "      <td>4.46</td>\n",
       "      <td>13</td>\n",
       "      <td>...</td>\n",
       "      <td>0.0</td>\n",
       "      <td>3.13</td>\n",
       "      <td>0</td>\n",
       "      <td></td>\n",
       "      <td>0.3</td>\n",
       "      <td>17.39</td>\n",
       "      <td>NaN</td>\n",
       "      <td>NaN</td>\n",
       "      <td>NaN</td>\n",
       "      <td>2020-12-31</td>\n",
       "    </tr>\n",
       "    <tr>\n",
       "      <th>266854</th>\n",
       "      <td>NaN</td>\n",
       "      <td>2020-12-31 23:12:00</td>\n",
       "      <td>2020-12-31 23:37:00</td>\n",
       "      <td></td>\n",
       "      <td>NaN</td>\n",
       "      <td>215</td>\n",
       "      <td>35</td>\n",
       "      <td>NaN</td>\n",
       "      <td>10.34</td>\n",
       "      <td>39</td>\n",
       "      <td>...</td>\n",
       "      <td>0.0</td>\n",
       "      <td>2.75</td>\n",
       "      <td>0</td>\n",
       "      <td></td>\n",
       "      <td>0.3</td>\n",
       "      <td>43.00</td>\n",
       "      <td>NaN</td>\n",
       "      <td>NaN</td>\n",
       "      <td>NaN</td>\n",
       "      <td>2020-12-31</td>\n",
       "    </tr>\n",
       "  </tbody>\n",
       "</table>\n",
       "<p>257400 rows × 21 columns</p>\n",
       "</div>"
      ],
      "text/plain": [
       "        vendor_id lpep_pickup_datetime lpep_dropoff_datetime  \\\n",
       "0             2.0  2020-10-01 00:31:19   2020-10-01 00:34:55   \n",
       "1             2.0  2020-10-01 00:42:12   2020-10-01 00:43:51   \n",
       "2             2.0  2020-10-01 00:53:09   2020-10-01 00:55:39   \n",
       "3             1.0  2020-10-01 00:12:29   2020-10-01 00:20:08   \n",
       "4             1.0  2020-10-01 00:32:38   2020-10-01 00:43:02   \n",
       "...           ...                  ...                   ...   \n",
       "266850        NaN  2020-12-31 23:02:00   2020-12-31 23:16:00   \n",
       "266851        NaN  2020-12-31 23:39:00   2020-12-31 23:54:00   \n",
       "266852        NaN  2020-12-31 23:09:00   2020-12-31 23:33:00   \n",
       "266853        NaN  2020-12-31 23:01:00   2020-12-31 23:12:00   \n",
       "266854        NaN  2020-12-31 23:12:00   2020-12-31 23:37:00   \n",
       "\n",
       "       store_and_fwd_flag  ratecode_id  pu_location_id  do_location_id  \\\n",
       "0                       N          1.0               7               7   \n",
       "1                       N          1.0             179               7   \n",
       "2                       N          1.0             179             223   \n",
       "3                       N          1.0             134             216   \n",
       "4                       N          1.0              82               7   \n",
       "...                   ...          ...             ...             ...   \n",
       "266850                             NaN             174             168   \n",
       "266851                             NaN             256             225   \n",
       "266852                             NaN             146              10   \n",
       "266853                             NaN             196              28   \n",
       "266854                             NaN             215              35   \n",
       "\n",
       "        passenger_count  trip_distance  fare_amount  ...  mta_tax  tip_amount  \\\n",
       "0                   1.0           0.79            5  ...      0.5        1.58   \n",
       "1                   1.0           0.50            4  ...      0.5        0.00   \n",
       "2                   1.0           0.60            4  ...      0.5        1.06   \n",
       "3                   2.0           4.40           13  ...      0.5        0.00   \n",
       "4                   1.0           2.90           10  ...      0.5        0.00   \n",
       "...                 ...            ...          ...  ...      ...         ...   \n",
       "266850              NaN           7.04           20  ...      0.0        0.00   \n",
       "266851              NaN           2.79           13  ...      0.0        0.00   \n",
       "266852              NaN          12.41           45  ...      0.0        2.75   \n",
       "266853              NaN           4.46           13  ...      0.0        3.13   \n",
       "266854              NaN          10.34           39  ...      0.0        2.75   \n",
       "\n",
       "        tolls_amount  ehail_fee improvement_surcharge  total_amount  \\\n",
       "0                  0                              0.3          7.88   \n",
       "1                  0                              0.3          5.30   \n",
       "2                  0                              0.3          6.36   \n",
       "3                  0                              0.3         14.80   \n",
       "4                  0                              0.3         11.80   \n",
       "...              ...        ...                   ...           ...   \n",
       "266850             0                              0.3         20.63   \n",
       "266851             0                              0.3         13.47   \n",
       "266852             0                              0.3         48.17   \n",
       "266853             0                              0.3         17.39   \n",
       "266854             0                              0.3         43.00   \n",
       "\n",
       "        payment_type  trip_type  congestion_surcharge  lpep_pickup_date  \n",
       "0                1.0        1.0                   0.0        2020-10-01  \n",
       "1                2.0        1.0                   0.0        2020-10-01  \n",
       "2                1.0        1.0                   0.0        2020-10-01  \n",
       "3                2.0        1.0                   0.0        2020-10-01  \n",
       "4                2.0        1.0                   0.0        2020-10-01  \n",
       "...              ...        ...                   ...               ...  \n",
       "266850           NaN        NaN                   NaN        2020-12-31  \n",
       "266851           NaN        NaN                   NaN        2020-12-31  \n",
       "266852           NaN        NaN                   NaN        2020-12-31  \n",
       "266853           NaN        NaN                   NaN        2020-12-31  \n",
       "266854           NaN        NaN                   NaN        2020-12-31  \n",
       "\n",
       "[257400 rows x 21 columns]"
      ]
     },
     "execution_count": 8,
     "metadata": {},
     "output_type": "execute_result"
    }
   ],
   "source": [
    "columns = {'VendorID': 'vendor_id', 'RatecodeID': 'ratecode_id', 'PULocationID': 'pu_location_id', 'DOLocationID': 'do_location_id' }\n",
    "\n",
    "# Create a mapping of old column names to new column names in snake_case\n",
    "# column_mapping = {col: col.lower().replace(' ', '_') for col in columns}\n",
    "\n",
    "# Rename columns using the mapping\n",
    "df.rename(columns=columns)\n",
    "        #   inplace=True)"
   ]
  },
  {
   "cell_type": "markdown",
   "metadata": {},
   "source": [
    "# Q6"
   ]
  },
  {
   "cell_type": "code",
   "execution_count": 9,
   "metadata": {},
   "outputs": [],
   "source": [
    "from google.oauth2 import service_account\n",
    "\n",
    "credentials = service_account.Credentials.from_service_account_file(\n",
    "    '/home/amal/projects/credentials/ichsanul-dev-cc6f799c9121.json', scopes=['https://www.googleapis.com/auth/cloud-platform']\n",
    ")"
   ]
  },
  {
   "cell_type": "code",
   "execution_count": 10,
   "metadata": {},
   "outputs": [],
   "source": [
    "import pandas as pd\n",
    "from google.cloud import bigquery\n",
    "from google.cloud import storage\n",
    "import pyarrow.parquet as pq\n",
    "\n",
    "# Replace with your own GCP credentials\n",
    "project_id = \"ichsanul-dev\"\n",
    "dataset_id = \"de_zoomcamp\"\n",
    "table_id = \"green_taxi\"\n",
    "\n",
    "# Assume 'df' is your pandas DataFrame\n",
    "\n",
    "# Write to BigQuery\n",
    "def write_to_bigquery(df, project_id, dataset_id, table_id):\n",
    "    client = bigquery.Client(credentials=credentials, project=project_id)\n",
    "    dataset_ref = client.dataset(dataset_id)\n",
    "    table_ref = dataset_ref.table(table_id)\n",
    "\n",
    "    job_config = bigquery.LoadJobConfig(\n",
    "        write_disposition=bigquery.WriteDisposition.WRITE_TRUNCATE  # Replace table if exists\n",
    "    )\n",
    "\n",
    "    job = client.load_table_from_dataframe(df, table_ref, job_config=job_config)\n",
    "    job.result()\n",
    "\n",
    "    print(f'Data written to BigQuery table: {project_id}.{dataset_id}.{table_id}')"
   ]
  },
  {
   "cell_type": "code",
   "execution_count": 11,
   "metadata": {},
   "outputs": [],
   "source": [
    "# # Write to BigQuery\n",
    "# write_to_bigquery(df, project_id, dataset_id, table_id)"
   ]
  },
  {
   "cell_type": "code",
   "execution_count": 12,
   "metadata": {},
   "outputs": [],
   "source": [
    "import pyarrow as pa\n",
    "import pyarrow.parquet as pq"
   ]
  },
  {
   "cell_type": "code",
   "execution_count": 13,
   "metadata": {},
   "outputs": [],
   "source": [
    "# table = pa.Table.from_pandas(df)\n",
    "\n",
    "# # Write the PyArrow Table to a partitioned Parquet file in GCP\n",
    "# pq.write_to_dataset(\n",
    "#     table,\n",
    "#     root_path=f\"gs://dezoomcamp_ichsanuldev/green\",\n",
    "#     partition_cols=['lpep_pickup_date'],\n",
    "#     filesystem=\"gs\",\n",
    "#     use_legacy_dataset=False,\n",
    "#     # credentials=credentials\n",
    "# )"
   ]
  },
  {
   "cell_type": "code",
   "execution_count": 16,
   "metadata": {},
   "outputs": [
    {
     "data": {
      "text/plain": [
       "95"
      ]
     },
     "execution_count": 16,
     "metadata": {},
     "output_type": "execute_result"
    }
   ],
   "source": [
    "len(df.lpep_pickup_date.unique())"
   ]
  }
 ],
 "metadata": {
  "kernelspec": {
   "display_name": "mage",
   "language": "python",
   "name": "python3"
  },
  "language_info": {
   "codemirror_mode": {
    "name": "ipython",
    "version": 3
   },
   "file_extension": ".py",
   "mimetype": "text/x-python",
   "name": "python",
   "nbconvert_exporter": "python",
   "pygments_lexer": "ipython3",
   "version": "3.11.5"
  }
 },
 "nbformat": 4,
 "nbformat_minor": 2
}
